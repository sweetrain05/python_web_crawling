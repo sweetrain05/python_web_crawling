{
 "cells": [
  {
   "cell_type": "code",
   "execution_count": null,
   "metadata": {},
   "outputs": [],
   "source": [
    "# Before web crawling, it's important to keep these in mind:\n",
    "# 1. Do not cause website overload by using time.sleep(1)\n",
    "# 2. Check for possibilities of copyright issues\n",
    "# 3. Check robots.txt of the website and make sure that User-agent: * is 'Allow'\n",
    "# (You can usually check this by visiting 'www.website_url.com/robots.txt')"
   ]
  },
  {
   "cell_type": "code",
   "execution_count": 4,
   "metadata": {},
   "outputs": [
    {
     "name": "stdout",
     "output_type": "stream",
     "text": [
      "Defaulting to user installation because normal site-packages is not writeable\n",
      "Collecting beautifulsoup4\n",
      "  Downloading beautifulsoup4-4.12.3-py3-none-any.whl.metadata (3.8 kB)\n",
      "Collecting soupsieve>1.2 (from beautifulsoup4)\n",
      "  Downloading soupsieve-2.5-py3-none-any.whl.metadata (4.7 kB)\n",
      "Downloading beautifulsoup4-4.12.3-py3-none-any.whl (147 kB)\n",
      "\u001b[2K   \u001b[90m━━━━━━━━━━━━━━━━━━━━━━━━━━━━━━━━━━━━━━━━\u001b[0m \u001b[32m147.9/147.9 kB\u001b[0m \u001b[31m2.7 MB/s\u001b[0m eta \u001b[36m0:00:00\u001b[0m \u001b[36m0:00:01\u001b[0m\n",
      "\u001b[?25hDownloading soupsieve-2.5-py3-none-any.whl (36 kB)\n",
      "Installing collected packages: soupsieve, beautifulsoup4\n",
      "Successfully installed beautifulsoup4-4.12.3 soupsieve-2.5\n",
      "Note: you may need to restart the kernel to use updated packages.\n"
     ]
    },
    {
     "name": "stderr",
     "output_type": "stream",
     "text": [
      "/var/folders/gl/654wswpd6jgfjc_36gz6_dqr0000gn/T/ipykernel_6439/3030612415.py:7: DeprecationWarning: \n",
      "Pyarrow will become a required dependency of pandas in the next major release of pandas (pandas 3.0),\n",
      "(to allow more performant data types, such as the Arrow string type, and better interoperability with other libraries)\n",
      "but was not found to be installed on your system.\n",
      "If this would cause problems for you,\n",
      "please provide us feedback at https://github.com/pandas-dev/pandas/issues/54466\n",
      "        \n",
      "  import pandas as pd\n"
     ]
    }
   ],
   "source": [
    "# install beautiful soup\n",
    "%pip install beautifulsoup4\n",
    "\n",
    "# import libraries\n",
    "import requests\n",
    "from bs4 import BeautifulSoup\n",
    "import pandas as pd\n",
    "import time"
   ]
  },
  {
   "cell_type": "code",
   "execution_count": 5,
   "metadata": {},
   "outputs": [
    {
     "data": {
      "text/plain": [
       "200"
      ]
     },
     "execution_count": 5,
     "metadata": {},
     "output_type": "execute_result"
    }
   ],
   "source": [
    "# set headers using your browser's user agent (search 'my user agent' on google)\n",
    "headers = {'User-Agent': 'Mozilla/5.0 (Macintosh; Intel Mac OS X 10_15_7) AppleWebKit/537.36 (KHTML, like Gecko) Chrome/122.0.0.0 Safari/537.36'}\n",
    "\n",
    "# set the url variable to the url you want to crawl\n",
    "url = 'https://www.transfermarkt.com/spieler-statistik/wertvollstespieler/marktwertetop'\n",
    "\n",
    "# make a request\n",
    "r = requests.get(url, headers = headers)\n",
    "\n",
    "# receive status code (if 200, connected succesfully)\n",
    "r.status_code"
   ]
  },
  {
   "cell_type": "code",
   "execution_count": 48,
   "metadata": {},
   "outputs": [],
   "source": [
    "# setup beautiful soup by linking it to requested url\n",
    "soup = BeautifulSoup(r.text, 'html.parser') \n",
    "# instead of r.text, you can also use r.content\n",
    "\n",
    "# print the soup to check connectivity\n",
    "# print(soup)"
   ]
  },
  {
   "cell_type": "code",
   "execution_count": 56,
   "metadata": {},
   "outputs": [
    {
     "name": "stdout",
     "output_type": "stream",
     "text": [
      "<tr class=\"odd\">\n",
      "<td class=\"zentriert\">1</td><td class=\"\"><table class=\"inline-table\"><tr><td rowspan=\"2\"><a href=\"#\"><img alt=\"Jude Bellingham\" class=\"bilderrahmen-fixed\" src=\"https://img.a.transfermarkt.technology/portrait/small/581678-1693987944.jpg?lm=1\" title=\"Jude Bellingham\"/></a></td><td class=\"hauptlink\"><a href=\"/jude-bellingham/profil/spieler/581678\" title=\"Jude Bellingham\">Jude Bellingham</a></td></tr><tr><td>Attacking Midfield</td></tr></table></td><td class=\"zentriert\">20</td><td class=\"zentriert\"><img alt=\"England\" class=\"flaggenrahmen\" src=\"https://tmssl.akamaized.net/images/flagge/verysmall/189.png?lm=1520611569\" title=\"England\"/><br/><img alt=\"Ireland\" class=\"flaggenrahmen\" src=\"https://tmssl.akamaized.net/images/flagge/verysmall/72.png?lm=1520611569\" title=\"Ireland\"/></td><td class=\"zentriert\"><a href=\"/real-madrid/startseite/verein/418\" title=\"Real Madrid\"><img alt=\"Real Madrid\" class=\"\" src=\"https://tmssl.akamaized.net/images/wappen/verysmall/418.png?lm=1697726166\" title=\"Real Madrid\"/></a></td><td class=\"rechts hauptlink\"><a href=\"/jude-bellingham/marktwertverlauf/spieler/581678\">€180.00m</a> </td></tr>\n",
      "number of players: 25\n"
     ]
    }
   ],
   "source": [
    "# find the html tag and class that includes players' info\n",
    "player_info = soup.find_all('tr', class_=['odd', 'even'])\n",
    "\n",
    "# check the data\n",
    "print(player_info[0])\n",
    "\n",
    "# check length of the array\n",
    "print(f'number of players: ' + str(len(player_info)))"
   ]
  },
  {
   "cell_type": "code",
   "execution_count": 50,
   "metadata": {},
   "outputs": [],
   "source": [
    "# make an empty array to store the players' data\n",
    "number = []\n",
    "name = []\n",
    "position = []\n",
    "age = []\n",
    "nation = []\n",
    "team = []\n",
    "value = []"
   ]
  },
  {
   "cell_type": "code",
   "execution_count": 51,
   "metadata": {},
   "outputs": [
    {
     "name": "stdout",
     "output_type": "stream",
     "text": [
      "['1', '2', '3', '4', '5', '6', '7', '8', '9', '10', '11', '12', '13', '14', '15', '16', '17', '18', '19', '20', '21', '22', '23', '24', '25']\n",
      "['Jude Bellingham', 'Erling Haaland', 'Kylian Mbappé', 'Vinicius Junior', 'Bukayo Saka', 'Jamal Musiala', 'Phil Foden', 'Lautaro Martínez', 'Victor Osimhen', 'Declan Rice', 'Rodri', 'Harry Kane', 'Florian Wirtz', 'Rodrygo', 'Federico Valverde', 'Moisés Caicedo', 'Pedri', 'Gavi', 'Eduardo Camavinga', 'Julián Álvarez', 'Aurélien Tchouaméni', 'Rafael Leão', 'Martin Ødegaard', 'Gabriel Martinelli', 'Bruno Guimarães']\n",
      "['Attacking Midfield', 'Centre-Forward', 'Centre-Forward', 'Left Winger', 'Right Winger', 'Attacking Midfield', 'Right Winger', 'Centre-Forward', 'Centre-Forward', 'Defensive Midfield', 'Defensive Midfield', 'Centre-Forward', 'Attacking Midfield', 'Right Winger', 'Central Midfield', 'Defensive Midfield', 'Central Midfield', 'Central Midfield', 'Central Midfield', 'Second Striker', 'Defensive Midfield', 'Left Winger', 'Attacking Midfield', 'Left Winger', 'Defensive Midfield']\n",
      "['20', '23', '25', '23', '22', '20', '23', '26', '25', '25', '27', '30', '20', '23', '25', '22', '21', '19', '21', '24', '24', '24', '25', '22', '26']\n",
      "['England', 'Norway', 'France', 'Brazil', 'England', 'Germany', 'England', 'Argentina', 'Nigeria', 'England', 'Spain', 'England', 'Germany', 'Brazil', 'Uruguay', 'Ecuador', 'Spain', 'Spain', 'France', 'Argentina', 'France', 'Portugal', 'Norway', 'Brazil', 'Brazil']\n",
      "['Real Madrid', 'Manchester City', 'Paris Saint-Germain', 'Real Madrid', 'Arsenal FC', 'Bayern Munich', 'Manchester City', 'Inter Milan', 'SSC Napoli', 'Arsenal FC', 'Manchester City', 'Bayern Munich', 'Bayer 04 Leverkusen', 'Real Madrid', 'Real Madrid', 'Chelsea FC', 'FC Barcelona', 'FC Barcelona', 'Real Madrid', 'Manchester City', 'Real Madrid', 'AC Milan', 'Arsenal FC', 'Arsenal FC', 'Newcastle United']\n",
      "['€180.00m', '€180.00m', '€180.00m', '€150.00m', '€120.00m', '€110.00m', '€110.00m', '€110.00m', '€110.00m', '€110.00m', '€110.00m', '€110.00m', '€100.00m', '€100.00m', '€100.00m', '€90.00m', '€90.00m', '€90.00m', '€90.00m', '€90.00m', '€90.00m', '€90.00m', '€90.00m', '€85.00m', '€85.00m']\n"
     ]
    }
   ],
   "source": [
    "# make a for loop to find and append data to arrays\n",
    "for info in player_info:\n",
    "\t# find all <td> tag and create an array with its content\n",
    "\tplayer = info.find_all('td')\n",
    "\n",
    "\t# append first array's text data into corresponding arrays\n",
    "\tnumber.append(player[0].text)\n",
    "\tname.append(player[3].text)\n",
    "\tposition.append(player[4].text)\n",
    "\tage.append(player[5].text)\n",
    "\tnation.append(player[6].img['alt'])\n",
    "\tteam.append(player[7].a['title'])\n",
    "\tvalue.append(player[8].a.text)\n",
    "\n",
    "# once the loop is over, all the data will be appended to data arrays\n",
    "# check the data\n",
    "print(number)\n",
    "print(name)\n",
    "print(position)\n",
    "print(age)\n",
    "print(nation)\n",
    "print(team)\n",
    "print(value)\n"
   ]
  },
  {
   "cell_type": "code",
   "execution_count": 55,
   "metadata": {},
   "outputs": [
    {
     "name": "stdout",
     "output_type": "stream",
     "text": [
      "   number                 name            position age     nation  \\\n",
      "0       1      Jude Bellingham  Attacking Midfield  20    England   \n",
      "1       2       Erling Haaland      Centre-Forward  23     Norway   \n",
      "2       3        Kylian Mbappé      Centre-Forward  25     France   \n",
      "3       4      Vinicius Junior         Left Winger  23     Brazil   \n",
      "4       5          Bukayo Saka        Right Winger  22    England   \n",
      "5       6        Jamal Musiala  Attacking Midfield  20    Germany   \n",
      "6       7           Phil Foden        Right Winger  23    England   \n",
      "7       8     Lautaro Martínez      Centre-Forward  26  Argentina   \n",
      "8       9       Victor Osimhen      Centre-Forward  25    Nigeria   \n",
      "9      10          Declan Rice  Defensive Midfield  25    England   \n",
      "10     11                Rodri  Defensive Midfield  27      Spain   \n",
      "11     12           Harry Kane      Centre-Forward  30    England   \n",
      "12     13        Florian Wirtz  Attacking Midfield  20    Germany   \n",
      "13     14              Rodrygo        Right Winger  23     Brazil   \n",
      "14     15    Federico Valverde    Central Midfield  25    Uruguay   \n",
      "15     16       Moisés Caicedo  Defensive Midfield  22    Ecuador   \n",
      "16     17                Pedri    Central Midfield  21      Spain   \n",
      "17     18                 Gavi    Central Midfield  19      Spain   \n",
      "18     19    Eduardo Camavinga    Central Midfield  21     France   \n",
      "19     20       Julián Álvarez      Second Striker  24  Argentina   \n",
      "20     21  Aurélien Tchouaméni  Defensive Midfield  24     France   \n",
      "21     22          Rafael Leão         Left Winger  24   Portugal   \n",
      "22     23      Martin Ødegaard  Attacking Midfield  25     Norway   \n",
      "23     24   Gabriel Martinelli         Left Winger  22     Brazil   \n",
      "24     25      Bruno Guimarães  Defensive Midfield  26     Brazil   \n",
      "\n",
      "                   team     value  \n",
      "0           Real Madrid  €180.00m  \n",
      "1       Manchester City  €180.00m  \n",
      "2   Paris Saint-Germain  €180.00m  \n",
      "3           Real Madrid  €150.00m  \n",
      "4            Arsenal FC  €120.00m  \n",
      "5         Bayern Munich  €110.00m  \n",
      "6       Manchester City  €110.00m  \n",
      "7           Inter Milan  €110.00m  \n",
      "8            SSC Napoli  €110.00m  \n",
      "9            Arsenal FC  €110.00m  \n",
      "10      Manchester City  €110.00m  \n",
      "11        Bayern Munich  €110.00m  \n",
      "12  Bayer 04 Leverkusen  €100.00m  \n",
      "13          Real Madrid  €100.00m  \n",
      "14          Real Madrid  €100.00m  \n",
      "15           Chelsea FC   €90.00m  \n",
      "16         FC Barcelona   €90.00m  \n",
      "17         FC Barcelona   €90.00m  \n",
      "18          Real Madrid   €90.00m  \n",
      "19      Manchester City   €90.00m  \n",
      "20          Real Madrid   €90.00m  \n",
      "21             AC Milan   €90.00m  \n",
      "22           Arsenal FC   €90.00m  \n",
      "23           Arsenal FC   €85.00m  \n",
      "24     Newcastle United   €85.00m  \n"
     ]
    }
   ],
   "source": [
    "# save as pandas dataframe\n",
    "df = pd.DataFrame(\n",
    "\t{\n",
    "\t\t\"number\" : number,\n",
    "\t\t\"name\" : name,\n",
    "\t\t\"position\" : position,\n",
    "\t\t\"age\" : age,\n",
    "\t\t\"nation\" : nation,\n",
    "\t\t\"team\" : team,\n",
    "\t\t\"value\" : value,\n",
    "\t}\n",
    ")\n",
    "\n",
    "# check df\n",
    "print(df)"
   ]
  },
  {
   "cell_type": "code",
   "execution_count": 57,
   "metadata": {},
   "outputs": [],
   "source": [
    "# save as csv file\n",
    "df.to_csv('soccer_player_value_25.csv', index=False)"
   ]
  }
 ],
 "metadata": {
  "kernelspec": {
   "display_name": "Python 3",
   "language": "python",
   "name": "python3"
  },
  "language_info": {
   "codemirror_mode": {
    "name": "ipython",
    "version": 3
   },
   "file_extension": ".py",
   "mimetype": "text/x-python",
   "name": "python",
   "nbconvert_exporter": "python",
   "pygments_lexer": "ipython3",
   "version": "3.9.6"
  },
  "orig_nbformat": 4
 },
 "nbformat": 4,
 "nbformat_minor": 2
}
